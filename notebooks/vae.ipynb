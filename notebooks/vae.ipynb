{
 "cells": [
  {
   "cell_type": "markdown",
   "id": "3392df0c-3af6-4748-aa68-2998bad5a4dd",
   "metadata": {},
   "source": [
    "# Variational autoencoders for structure parameterization"
   ]
  },
  {
   "cell_type": "markdown",
   "id": "eabfebd3-f215-4c6b-b45a-70dd6eca62fb",
   "metadata": {
    "editable": true,
    "slideshow": {
     "slide_type": ""
    },
    "tags": []
   },
   "source": [
    "## Setup"
   ]
  },
  {
   "cell_type": "code",
   "execution_count": null,
   "id": "6066109c-61c4-4b75-8379-2e8444309835",
   "metadata": {
    "editable": true,
    "slideshow": {
     "slide_type": ""
    },
    "tags": []
   },
   "outputs": [],
   "source": [
    "import sys\n",
    "\n",
    "if \"google.colab\" in sys.modules:\n",
    "    from google.colab import output\n",
    "\n",
    "    output.enable_custom_widget_manager()\n",
    "    if \"mlatint\" not in sys.modules:\n",
    "        !sudo apt install libcairo2-dev pkg-config python3-dev\n",
    "        !pip install git+https://github.com/yaugenst/mlatint"
   ]
  },
  {
   "cell_type": "code",
   "execution_count": null,
   "id": "9488c1ee-6f2b-41f1-8fa1-cb8d439e8016",
   "metadata": {
    "editable": true,
    "slideshow": {
     "slide_type": ""
    },
    "tags": []
   },
   "outputs": [],
   "source": [
    "%matplotlib ipympl\n",
    "import torch\n",
    "import ipywidgets as widgets\n",
    "import matplotlib.pyplot as plt\n",
    "import matplotlib.gridspec as gridspec\n",
    "\n",
    "from mlatint import VAE, Sampler\n",
    "\n",
    "torch.set_grad_enabled(False);"
   ]
  },
  {
   "cell_type": "markdown",
   "id": "4dec5f00-e95a-41ba-8890-85d846173547",
   "metadata": {
    "editable": true,
    "slideshow": {
     "slide_type": ""
    },
    "tags": []
   },
   "source": [
    "## Visualizing geometry samplers\n",
    "\n",
    "We will start by visualizing two types of geometries that we can generate using our pre-defined samplers."
   ]
  },
  {
   "cell_type": "code",
   "execution_count": null,
   "id": "8e9c5e77-67bb-4ffa-aea3-ede75e0216bf",
   "metadata": {},
   "outputs": [],
   "source": [
    "blobs = Sampler(\"blobs\")\n",
    "triangles = Sampler(\"triangles\")"
   ]
  },
  {
   "cell_type": "code",
   "execution_count": null,
   "id": "4a3f2023-0dbc-4aab-bfe2-ffd4d57b5653",
   "metadata": {},
   "outputs": [],
   "source": [
    "plt.close(\"all\")\n",
    "fig, ax = plt.subplots(1, 2, figsize=(9, 4), sharey=True)\n",
    "\n",
    "ax[0].set_title(\"Blobs\")\n",
    "ax[1].set_title(\"Triangles\")\n",
    "im1 = ax[0].imshow(blobs.sample(), cmap=\"gray_r\")\n",
    "im2 = ax[1].imshow(triangles.sample(), cmap=\"gray_r\")\n",
    "plt.show()\n",
    "\n",
    "\n",
    "def update(b=None):\n",
    "    im1.set_data(blobs.sample())\n",
    "    im2.set_data(triangles.sample())\n",
    "\n",
    "\n",
    "button = widgets.Button(description=\"Sample\")\n",
    "button.on_click(update)\n",
    "button"
   ]
  },
  {
   "cell_type": "markdown",
   "id": "28e94821-ad57-4109-8f76-0bc0c6767664",
   "metadata": {},
   "source": [
    "## Geometry reconstruction with VAEs\n",
    "\n",
    "Now, we will test our VAEs to see how well they can reconstruct input geometries. Play around with different combinations of samplers and VAEs!"
   ]
  },
  {
   "cell_type": "code",
   "execution_count": null,
   "id": "0e542016-3a4b-4665-b1e0-14bb5d7502ed",
   "metadata": {},
   "outputs": [],
   "source": [
    "vae_blobs = VAE(\"blobs\")\n",
    "vae_triangles = VAE(\"triangles\")"
   ]
  },
  {
   "cell_type": "code",
   "execution_count": null,
   "id": "e9cf35ea-b515-4f3a-82e9-4cccf702c60e",
   "metadata": {},
   "outputs": [],
   "source": [
    "plt.close(\"all\")\n",
    "fig, ax = plt.subplots(1, 2, figsize=(9, 4), sharey=True)\n",
    "\n",
    "ax[0].set_title(\"Input\")\n",
    "ax[1].set_title(\"Reconstruction\")\n",
    "\n",
    "_init = blobs.sample()\n",
    "im1 = ax[0].imshow(_init, cmap=\"gray_r\")\n",
    "im2 = ax[1].imshow(vae_blobs(_init), cmap=\"gray_r\")\n",
    "plt.show()\n",
    "\n",
    "radio_sampler = widgets.RadioButtons(\n",
    "    options=[\"Blobs\", \"Triangles\"], description=\"Geometry\", disabled=False\n",
    ")\n",
    "\n",
    "radio_model = widgets.RadioButtons(\n",
    "    options=[\"Blobs\", \"Triangles\"], description=\"VAE model\", disabled=False\n",
    ")\n",
    "\n",
    "\n",
    "def update(_):\n",
    "    geom_val = radio_sampler.get_interact_value()\n",
    "    model_val = radio_model.get_interact_value()\n",
    "\n",
    "    sampler = blobs if geom_val == \"Blobs\" else triangles\n",
    "    model = vae_blobs if model_val == \"Blobs\" else vae_triangles\n",
    "\n",
    "    sample = sampler.sample()\n",
    "\n",
    "    im1.set_data(sample)\n",
    "    im2.set_data(model(sample))\n",
    "\n",
    "\n",
    "button = widgets.Button(description=\"Sample\")\n",
    "button.on_click(update)\n",
    "\n",
    "widgets.HBox([radio_sampler, radio_model, button])"
   ]
  },
  {
   "cell_type": "markdown",
   "id": "467a622e-de7d-439b-8cb9-b1fa39af842d",
   "metadata": {},
   "source": [
    "## Latent space representation\n",
    "\n",
    "As VAEs are all about the latent space, we will now see what that looks like."
   ]
  },
  {
   "cell_type": "code",
   "execution_count": null,
   "id": "88da54f0-178f-46e1-a1f4-e46b460da852",
   "metadata": {},
   "outputs": [],
   "source": [
    "x = blobs.sample()\n",
    "x_encoded = vae_blobs.encode(x)\n",
    "x_decoded = vae_blobs.decode(x_encoded)"
   ]
  },
  {
   "cell_type": "code",
   "execution_count": null,
   "id": "f3bd0268-9c1b-47a5-83ab-e21d74d4939b",
   "metadata": {
    "editable": true,
    "slideshow": {
     "slide_type": ""
    },
    "tags": []
   },
   "outputs": [],
   "source": [
    "plt.close(\"all\")\n",
    "fig = plt.figure(figsize=(8, 3), tight_layout=True)\n",
    "gs = gridspec.GridSpec(2, 8)\n",
    "\n",
    "ax_in = fig.add_subplot(gs[:, :2])\n",
    "ax_out = fig.add_subplot(gs[:, -2:])\n",
    "ax_latent = fig.add_subplot(gs[0, 2:-2])\n",
    "ax_hist = fig.add_subplot(gs[1, 2:-2])\n",
    "\n",
    "ax_in.set_title(\"Input\")\n",
    "ax_out.set_title(\"Reconstruction\")\n",
    "ax_in.axis(\"off\")\n",
    "ax_out.axis(\"off\")\n",
    "\n",
    "ax_latent.set_title(\"Latent values\")\n",
    "ax_hist.set_title(\"Latent hist\")\n",
    "\n",
    "im1 = ax_in.imshow(x, cmap=\"gray_r\")\n",
    "im2 = ax_out.imshow(x_decoded, cmap=\"gray_r\")\n",
    "ax_latent.plot(x_encoded, \"k.\")\n",
    "ax_hist.hist(x_encoded, 32)\n",
    "plt.show()\n",
    "\n",
    "radio = widgets.RadioButtons(\n",
    "    options=[\"Blobs\", \"Triangles\"], description=\"Geometry\", disabled=False\n",
    ")\n",
    "\n",
    "\n",
    "def update(_):\n",
    "    geom_val = radio.get_interact_value()\n",
    "\n",
    "    sampler = blobs if geom_val == \"Blobs\" else triangles\n",
    "    model = vae_blobs if geom_val == \"Blobs\" else vae_triangles\n",
    "\n",
    "    x = sampler.sample()\n",
    "    x_encoded = model.encode(x)\n",
    "    x_decoded = model.decode(x_encoded)\n",
    "\n",
    "    im1.set_data(x)\n",
    "    im2.set_data(x_decoded)\n",
    "    ax_latent.cla()\n",
    "    ax_hist.cla()\n",
    "    ax_latent.plot(x_encoded, \"k.\")\n",
    "    ax_hist.hist(x_encoded, 32)\n",
    "    ax_latent.set_title(\"Latent values\")\n",
    "    ax_hist.set_title(\"Latent hist\")\n",
    "\n",
    "\n",
    "button = widgets.Button(description=\"Sample\")\n",
    "button.on_click(update)\n",
    "\n",
    "widgets.HBox([radio, button])"
   ]
  },
  {
   "cell_type": "markdown",
   "id": "fcb8ba09-dfbf-43c3-8476-fb3f13da3edc",
   "metadata": {},
   "source": [
    "## Direct latent space sampling\n",
    "\n",
    "The cool thing about these latent spaces is that we don't need the encoder at all!\n",
    "We can just sample a latent vector directly and have our decoder create a geometry from it."
   ]
  },
  {
   "cell_type": "code",
   "execution_count": null,
   "id": "8e088fcc-a861-44f2-8894-e6bddd22cc69",
   "metadata": {},
   "outputs": [],
   "source": [
    "latent_vector = torch.FloatTensor(256).normal_(0.8, 0.4)"
   ]
  },
  {
   "cell_type": "code",
   "execution_count": null,
   "id": "0e0ef227-50fd-4853-805f-8d0019e3cc10",
   "metadata": {
    "editable": true,
    "slideshow": {
     "slide_type": ""
    },
    "tags": []
   },
   "outputs": [],
   "source": [
    "plt.close(\"all\")\n",
    "fig, ax = plt.subplots(1, 2, figsize=(9, 4))\n",
    "\n",
    "ax[0].set_title(\"Latent hist\")\n",
    "ax[1].set_title(\"Decoded\")\n",
    "\n",
    "ax[0].hist(latent_vector, 32)\n",
    "im1 = ax[1].imshow(vae_blobs.decode(latent_vector), cmap=\"gray_r\")\n",
    "plt.show()\n",
    "\n",
    "radio = widgets.RadioButtons(\n",
    "    options=[\"Blobs\", \"Triangles\"], description=\"VAE model\", disabled=False\n",
    ")\n",
    "\n",
    "\n",
    "def update(_):\n",
    "    model_val = radio.get_interact_value()\n",
    "    model = vae_blobs if model_val == \"Blobs\" else vae_triangles\n",
    "\n",
    "    latent_vector = torch.FloatTensor(256).normal_(0.8, 0.4)\n",
    "\n",
    "    ax[0].cla()\n",
    "    ax[0].set_title(\"Latent hist\")\n",
    "    ax[0].hist(latent_vector, 32)\n",
    "    im1.set_data(model.decode(latent_vector))\n",
    "\n",
    "\n",
    "button = widgets.Button(description=\"Sample\")\n",
    "button.on_click(update)\n",
    "\n",
    "widgets.HBox([radio, button])"
   ]
  },
  {
   "cell_type": "markdown",
   "id": "c911011c-df93-4abf-a5e8-2eaab4e3bac6",
   "metadata": {},
   "source": [
    "## Latent space interpolation\n",
    "\n",
    "The latent space vectors enable us to smoothly interpolate between geometries without using an explicit parameterization.\n",
    "Here, we will sample two latent vectors and interpolate between them."
   ]
  },
  {
   "cell_type": "code",
   "execution_count": null,
   "id": "3da36733-5608-496f-8649-83fd2bb99cd6",
   "metadata": {},
   "outputs": [],
   "source": [
    "x1 = blobs.sample()\n",
    "x2 = blobs.sample()\n",
    "x1_encoded = vae_blobs.encode(x1)\n",
    "x2_encoded = vae_blobs.encode(x2)\n",
    "x1_decoded = vae_blobs.decode(x1_encoded)\n",
    "x2_decoded = vae_blobs.decode(x2_encoded)"
   ]
  },
  {
   "cell_type": "code",
   "execution_count": null,
   "id": "5e88c012-e9d6-432f-930b-9c378c0db12e",
   "metadata": {
    "editable": true,
    "slideshow": {
     "slide_type": ""
    },
    "tags": []
   },
   "outputs": [],
   "source": [
    "plt.close(\"all\")\n",
    "fig = plt.figure(figsize=(8, 3), tight_layout=True)\n",
    "gs = gridspec.GridSpec(2, 8)\n",
    "\n",
    "ax_in = fig.add_subplot(gs[0, :2])\n",
    "ax_out = fig.add_subplot(gs[1, :2])\n",
    "ax_interp = fig.add_subplot(gs[:, -2:])\n",
    "ax_latent = fig.add_subplot(gs[:, 2:-2])\n",
    "\n",
    "ax_in.set_title(\"Input\")\n",
    "ax_out.set_title(\"Target\")\n",
    "ax_interp.set_title(\"Interpolation\")\n",
    "ax_in.axis(\"off\")\n",
    "ax_out.axis(\"off\")\n",
    "ax_interp.axis(\"off\")\n",
    "\n",
    "ax_latent.set_title(\"Latent values\")\n",
    "ax_hist.set_title(\"Latent hist\")\n",
    "\n",
    "im1 = ax_in.imshow(x1, cmap=\"gray_r\")\n",
    "im2 = ax_out.imshow(x2, cmap=\"gray_r\")\n",
    "im3 = ax_interp.imshow(x1, cmap=\"gray_r\")\n",
    "ax_latent.plot(\n",
    "    x1_encoded, c=\"tab:red\", ls=\" \", marker=\".\", ms=3, alpha=0.6, label=\"Input\"\n",
    ")\n",
    "ax_latent.plot(\n",
    "    x2_encoded, c=\"tab:blue\", ls=\" \", marker=\".\", ms=4, alpha=0.6, label=\"Target\"\n",
    ")\n",
    "ax_latent.plot(\n",
    "    x1_encoded, c=\"k\", ls=\" \", marker=\"x\", ms=4, alpha=0.8, label=\"Interpolation\"\n",
    ")\n",
    "ax_latent.legend(ncols=3)\n",
    "plt.show()\n",
    "\n",
    "radio = widgets.RadioButtons(\n",
    "    options=[\"Blobs\", \"Triangles\"], description=\"Geometry\", disabled=False\n",
    ")\n",
    "\n",
    "slider = widgets.FloatSlider(\n",
    "    value=0,\n",
    "    min=0,\n",
    "    max=1,\n",
    "    step=0.01,\n",
    "    description=\"Ratio\",\n",
    "    disabled=False,\n",
    "    continuous_update=True,\n",
    "    orientation=\"horizontal\",\n",
    "    readout=True,\n",
    "    readout_format=\".2f\",\n",
    ")\n",
    "\n",
    "_state = {\n",
    "    \"x1_encoded\": x1_encoded,\n",
    "    \"x2_encoded\": x2_encoded,\n",
    "    \"model\": vae_blobs,\n",
    "}\n",
    "\n",
    "\n",
    "def interpolate(_):\n",
    "    ratio = float(slider.get_interact_value())\n",
    "\n",
    "    interp = (1 - ratio) * _state[\"x1_encoded\"] + ratio * _state[\"x2_encoded\"]\n",
    "    interp_decoded = _state[\"model\"].decode(interp)\n",
    "    im3.set_data(interp_decoded)\n",
    "\n",
    "    ax_latent.cla()\n",
    "    ax_latent.plot(\n",
    "        _state[\"x1_encoded\"],\n",
    "        c=\"tab:red\",\n",
    "        ls=\" \",\n",
    "        marker=\".\",\n",
    "        ms=3,\n",
    "        alpha=0.6,\n",
    "        label=\"Input\",\n",
    "    )\n",
    "    ax_latent.plot(\n",
    "        _state[\"x2_encoded\"],\n",
    "        c=\"tab:blue\",\n",
    "        ls=\" \",\n",
    "        marker=\".\",\n",
    "        ms=4,\n",
    "        alpha=0.6,\n",
    "        label=\"Target\",\n",
    "    )\n",
    "    ax_latent.plot(\n",
    "        interp, c=\"k\", ls=\" \", marker=\"x\", ms=4, alpha=0.8, label=\"Interpolation\"\n",
    "    )\n",
    "    ax_latent.legend(ncols=3)\n",
    "    ax_latent.set_title(\"Latent values\")\n",
    "\n",
    "\n",
    "def update(_):\n",
    "    geom_val = radio.get_interact_value()\n",
    "    ratio = slider.get_interact_value()\n",
    "\n",
    "    sampler = blobs if geom_val == \"Blobs\" else triangles\n",
    "    model = vae_blobs if geom_val == \"Blobs\" else vae_triangles\n",
    "\n",
    "    x1 = sampler.sample()\n",
    "    x2 = sampler.sample()\n",
    "    x1_encoded = model.encode(x1)\n",
    "    x2_encoded = model.encode(x2)\n",
    "    x1_decoded = model.decode(x1_encoded)\n",
    "    x2_decoded = model.decode(x2_encoded)\n",
    "    interp = (1 - ratio) * x1_encoded + ratio * x2_encoded\n",
    "    interp_decoded = model.decode(interp)\n",
    "\n",
    "    _state[\"x1_encoded\"] = x1_encoded\n",
    "    _state[\"x2_encoded\"] = x2_encoded\n",
    "    _state[\"model\"] = model\n",
    "\n",
    "    im1.set_data(x1)\n",
    "    im2.set_data(x2)\n",
    "    im3.set_data(interp_decoded)\n",
    "\n",
    "    ax_latent.cla()\n",
    "    ax_latent.plot(\n",
    "        x1_encoded, c=\"tab:red\", ls=\" \", marker=\".\", ms=3, alpha=0.6, label=\"Input\"\n",
    "    )\n",
    "    ax_latent.plot(\n",
    "        x2_encoded, c=\"tab:blue\", ls=\" \", marker=\".\", ms=4, alpha=0.6, label=\"Target\"\n",
    "    )\n",
    "    ax_latent.plot(\n",
    "        interp, c=\"k\", ls=\" \", marker=\"x\", ms=4, alpha=0.8, label=\"Interpolation\"\n",
    "    )\n",
    "    ax_latent.legend(ncols=3)\n",
    "    ax_latent.set_title(\"Latent values\")\n",
    "\n",
    "\n",
    "slider.observe(interpolate)\n",
    "button = widgets.Button(description=\"Sample\")\n",
    "button.on_click(update)\n",
    "\n",
    "widgets.HBox([radio, button, slider])"
   ]
  },
  {
   "cell_type": "code",
   "execution_count": null,
   "id": "77d8e489-5264-4be7-bd90-11bde846d1e7",
   "metadata": {},
   "outputs": [],
   "source": []
  }
 ],
 "metadata": {
  "kernelspec": {
   "display_name": "Python 3 (ipykernel)",
   "language": "python",
   "name": "python3"
  },
  "language_info": {
   "codemirror_mode": {
    "name": "ipython",
    "version": 3
   },
   "file_extension": ".py",
   "mimetype": "text/x-python",
   "name": "python",
   "nbconvert_exporter": "python",
   "pygments_lexer": "ipython3",
   "version": "3.11.9"
  }
 },
 "nbformat": 4,
 "nbformat_minor": 5
}
