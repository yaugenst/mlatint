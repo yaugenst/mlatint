{
 "cells": [
  {
   "cell_type": "markdown",
   "id": "8b44c267-7fdf-4e10-81b4-efa3587ba97b",
   "metadata": {},
   "source": [
    "# Neural operator surrogate solvers in 2D"
   ]
  },
  {
   "cell_type": "markdown",
   "id": "c477bcf1-4c94-4e06-948f-0a4ea0a8e47d",
   "metadata": {},
   "source": [
    "## Setup"
   ]
  },
  {
   "cell_type": "code",
   "execution_count": null,
   "id": "c2048c5e-5cc1-4396-a32b-0dadcac5cc21",
   "metadata": {
    "editable": true,
    "slideshow": {
     "slide_type": ""
    },
    "tags": []
   },
   "outputs": [],
   "source": [
    "%matplotlib ipympl\n",
    "import torch\n",
    "import ipywidgets as widgets\n",
    "import matplotlib.pyplot as plt\n",
    "from matplotlib.colors import CenteredNorm\n",
    "from mpl_toolkits.axes_grid1 import make_axes_locatable\n",
    "\n",
    "from mlatint import FNO, Sampler, FDFD\n",
    "\n",
    "torch.set_grad_enabled(False);"
   ]
  },
  {
   "cell_type": "code",
   "execution_count": null,
   "id": "d7c53370-fab2-43e0-a469-a66c5a1cec69",
   "metadata": {
    "editable": true,
    "slideshow": {
     "slide_type": ""
    },
    "tags": []
   },
   "outputs": [],
   "source": [
    "fno = FNO()\n",
    "fdfd = FDFD()\n",
    "blobs = Sampler(\"blobs\")\n",
    "triangles = Sampler(\"triangles\")\n",
    "\n",
    "extent = (-2.56, 2.56, -2.56, 2.56)  # for plotting"
   ]
  },
  {
   "cell_type": "markdown",
   "id": "eb62dbaa-e7da-4bd9-9ef4-9748c6dbff8d",
   "metadata": {
    "editable": true,
    "slideshow": {
     "slide_type": ""
    },
    "tags": []
   },
   "source": [
    "## FDFD simulation\n",
    "\n",
    "To get started, we will run some regular Maxwell simulations with the sampled geometries."
   ]
  },
  {
   "cell_type": "code",
   "execution_count": null,
   "id": "a7fc2781-f5b9-49af-adb9-ad8de903d2ae",
   "metadata": {},
   "outputs": [],
   "source": [
    "geometry = blobs.sample()\n",
    "ez = fdfd(geometry)"
   ]
  },
  {
   "cell_type": "code",
   "execution_count": null,
   "id": "35129f13-95cc-453a-8e26-d6bce973516a",
   "metadata": {},
   "outputs": [],
   "source": [
    "plt.close(\"all\")\n",
    "fig, ax = plt.subplots(1, 4, figsize=(9, 3), sharey=True)\n",
    "\n",
    "ax[0].set_title(\"Geometry\")\n",
    "ax[1].set_title(\"Re(Ez)\")\n",
    "ax[2].set_title(\"Im(Ez)\")\n",
    "ax[3].set_title(\"|Ez|\")\n",
    "ax[0].set_ylabel(\"y (μm)\")\n",
    "plt.setp(ax, xlabel=\"x (μm)\")\n",
    "\n",
    "extent = (-2.56, 2.56, -2.56, 2.56)\n",
    "im1 = ax[0].imshow(geometry, cmap=\"gray_r\", extent=extent)\n",
    "im2 = ax[1].imshow(ez.real, cmap=\"RdBu\", norm=CenteredNorm(), extent=extent)\n",
    "im3 = ax[2].imshow(ez.imag, cmap=\"RdBu\", norm=CenteredNorm(), extent=extent)\n",
    "im4 = ax[3].imshow(ez.abs(), cmap=\"magma\", extent=extent)\n",
    "plt.show()\n",
    "\n",
    "radio = widgets.RadioButtons(\n",
    "    options=[\"Blobs\", \"Triangles\"],\n",
    "    description=\"Geometry\",\n",
    "    disabled=False\n",
    ")\n",
    "\n",
    "def update(_):\n",
    "    geom_val = radio.get_interact_value()\n",
    "    sampler = blobs if geom_val == \"Blobs\" else triangles\n",
    "    \n",
    "    x = sampler.sample()\n",
    "    ez = fdfd(x)\n",
    "    \n",
    "    im1.set_data(x)\n",
    "    im2.set_data(ez.real)\n",
    "    im3.set_data(ez.imag)\n",
    "    im4.set_data(ez.abs())\n",
    "\n",
    "button = widgets.Button(description=\"Sample\")\n",
    "button.on_click(update)\n",
    "\n",
    "widgets.HBox([radio, button])"
   ]
  },
  {
   "cell_type": "markdown",
   "id": "d970c3f4-f220-4bb8-b371-6113522471a8",
   "metadata": {},
   "source": [
    "## FNO \"simulation\"\n",
    "\n",
    "Now we do the same but replace the FDFD solver with our pre-trained FNO surrogate solver."
   ]
  },
  {
   "cell_type": "code",
   "execution_count": null,
   "id": "c8d5c593-69b5-4011-99e8-1ca20edb55a6",
   "metadata": {},
   "outputs": [],
   "source": [
    "geometry = blobs.sample()\n",
    "ez = fno(geometry)"
   ]
  },
  {
   "cell_type": "code",
   "execution_count": null,
   "id": "c5192fe3-7588-4ae9-9185-450863a7cf81",
   "metadata": {
    "editable": true,
    "slideshow": {
     "slide_type": ""
    },
    "tags": []
   },
   "outputs": [],
   "source": [
    "plt.close(\"all\")\n",
    "fig, ax = plt.subplots(1, 4, figsize=(9, 3), sharey=True)\n",
    "\n",
    "ax[0].set_title(\"Geometry\")\n",
    "ax[1].set_title(\"Re(Ez)\")\n",
    "ax[2].set_title(\"Im(Ez)\")\n",
    "ax[3].set_title(\"|Ez|\")\n",
    "ax[0].set_ylabel(\"y (μm)\")\n",
    "plt.setp(ax, xlabel=\"x (μm)\")\n",
    "\n",
    "extent = (-2.56, 2.56, -2.56, 2.56)\n",
    "im1 = ax[0].imshow(geometry, cmap=\"gray_r\", extent=extent)\n",
    "im2 = ax[1].imshow(ez.real, cmap=\"RdBu\", norm=CenteredNorm(), extent=extent)\n",
    "im3 = ax[2].imshow(ez.imag, cmap=\"RdBu\", norm=CenteredNorm(), extent=extent)\n",
    "im4 = ax[3].imshow(ez.abs(), cmap=\"magma\", extent=extent)\n",
    "plt.show()\n",
    "\n",
    "radio = widgets.RadioButtons(\n",
    "    options=[\"Blobs\", \"Triangles\"],\n",
    "    description=\"Geometry\",\n",
    "    disabled=False\n",
    ")\n",
    "\n",
    "def update(_):\n",
    "    geom_val = radio.get_interact_value()\n",
    "    sampler = blobs if geom_val == \"Blobs\" else triangles\n",
    "    \n",
    "    x = sampler.sample()\n",
    "    ez = fno(x)\n",
    "    \n",
    "    im1.set_data(x)\n",
    "    im2.set_data(ez.real)\n",
    "    im3.set_data(ez.imag)\n",
    "    im4.set_data(ez.abs())\n",
    "\n",
    "button = widgets.Button(description=\"Sample\")\n",
    "button.on_click(update)\n",
    "\n",
    "widgets.HBox([radio, button])"
   ]
  },
  {
   "cell_type": "markdown",
   "id": "0643ca55-baf5-45de-8785-3e7a709e9eb9",
   "metadata": {},
   "source": [
    "## FDFD vs FNO\n",
    "\n",
    "Let's inspect the differences between the two in terms of accuracy and speed!"
   ]
  },
  {
   "cell_type": "markdown",
   "id": "52fecd25-c428-452f-beb7-cb98e758214c",
   "metadata": {},
   "source": [
    "### Error\n",
    "\n",
    "For the errors, we will focus on the absolute field for simplicity (it contains both the real and imaginary parts, obviously, so should be a decent benchmark).\n",
    "We normalize the absolute fields of both solvers. This is not strictly necessary but simplifies the comparison a bit."
   ]
  },
  {
   "cell_type": "code",
   "execution_count": null,
   "id": "eb7c1592-2057-4a6e-a493-15fb1ba532e0",
   "metadata": {},
   "outputs": [],
   "source": [
    "def normalize(x):\n",
    "    x -= x.min()\n",
    "    x /= x.max()\n",
    "    return x"
   ]
  },
  {
   "cell_type": "code",
   "execution_count": null,
   "id": "676f3e8b-d85e-42fa-b377-47721c104b97",
   "metadata": {},
   "outputs": [],
   "source": [
    "geometry = blobs.sample()\n",
    "ez_fdfd = fdfd(geometry)\n",
    "ez_fno = fno(geometry)\n",
    "\n",
    "ez_fdfd_norm = normalize(ez_fdfd.abs())\n",
    "ez_fno_norm = normalize(ez_fno.abs())"
   ]
  },
  {
   "cell_type": "code",
   "execution_count": null,
   "id": "aff4b6a1-2614-4b5f-b984-20552966fb80",
   "metadata": {
    "editable": true,
    "slideshow": {
     "slide_type": ""
    },
    "tags": []
   },
   "outputs": [],
   "source": [
    "plt.close(\"all\")\n",
    "fig, ax = plt.subplots(1, 4, figsize=(10, 3), sharey=True)\n",
    "\n",
    "ax[0].set_title(\"Geometry\")\n",
    "ax[1].set_title(\"|Ez| FDFD\")\n",
    "ax[2].set_title(\"|Ez| FNO\")\n",
    "ax[3].set_title(\"abs. err.\")\n",
    "ax[0].set_ylabel(\"y (μm)\")\n",
    "plt.setp(ax, xlabel=\"x (μm)\")\n",
    "\n",
    "extent = (-2.56, 2.56, -2.56, 2.56)\n",
    "im1 = ax[0].imshow(geometry, cmap=\"gray_r\", extent=extent)\n",
    "im2 = ax[1].imshow(ez_fdfd_norm, cmap=\"magma\", extent=extent)\n",
    "im3 = ax[2].imshow(ez_fno_norm, cmap=\"magma\", extent=extent)\n",
    "im4 = ax[3].imshow(torch.abs(ez_fdfd_norm - ez_fno_norm), cmap=\"viridis\", extent=extent)\n",
    "divider = make_axes_locatable(ax[3])\n",
    "cax = divider.append_axes(\"right\", size=\"5%\", pad=0.25)\n",
    "fig.colorbar(im4, cax)\n",
    "plt.show()\n",
    "\n",
    "radio = widgets.RadioButtons(\n",
    "    options=[\"Blobs\", \"Triangles\"],\n",
    "    description=\"Geometry\",\n",
    "    disabled=False\n",
    ")\n",
    "\n",
    "def update(_):\n",
    "    geom_val = radio.get_interact_value()\n",
    "    sampler = blobs if geom_val == \"Blobs\" else triangles\n",
    "    \n",
    "    x = sampler.sample()\n",
    "    ez_fdfd = normalize(fdfd(x).abs())\n",
    "    ez_fno = normalize(fno(x).abs())\n",
    "    \n",
    "    im1.set_data(x)\n",
    "    im2.set_data(ez_fdfd)\n",
    "    im3.set_data(ez_fno)\n",
    "    ax[3].cla()\n",
    "    im4 = ax[3].imshow(torch.abs(ez_fdfd - ez_fno), cmap=\"viridis\", extent=extent)\n",
    "    cax.cla()\n",
    "    fig.colorbar(im4, cax)\n",
    "    ax[3].set_xlabel(\"x (μm)\")\n",
    "\n",
    "button = widgets.Button(description=\"Sample\")\n",
    "button.on_click(update)\n",
    "\n",
    "widgets.HBox([radio, button])"
   ]
  },
  {
   "cell_type": "markdown",
   "id": "be5d4310-6d9b-49e9-a826-02ec6185c313",
   "metadata": {
    "editable": true,
    "slideshow": {
     "slide_type": ""
    },
    "tags": []
   },
   "source": [
    "### Speed\n",
    "\n",
    "Obviously, we expect the surrogate solver to be faster. Is it though?"
   ]
  },
  {
   "cell_type": "code",
   "execution_count": null,
   "id": "6da641c5-74bc-4cd3-aa4c-2689715c0025",
   "metadata": {},
   "outputs": [],
   "source": [
    "%%time\n",
    "for _ in range(10):\n",
    "    fdfd(blobs.sample())"
   ]
  },
  {
   "cell_type": "code",
   "execution_count": null,
   "id": "a862a2ec-cdbf-4a5c-ba66-eae8dd05ce52",
   "metadata": {},
   "outputs": [],
   "source": [
    "%%time\n",
    "for _ in range(10):\n",
    "    fno(blobs.sample())"
   ]
  },
  {
   "cell_type": "markdown",
   "id": "5032a886-26ac-4b3a-a267-dc74f9016222",
   "metadata": {},
   "source": [
    "## \"Breaking\" the FNO\n",
    "\n",
    "The surrogate solver has limits. One of them is the materials in the simulation. As it was trained on only two permittivities, the error will increase as we include different materials in the simulation."
   ]
  },
  {
   "cell_type": "code",
   "execution_count": null,
   "id": "e0dfd676-76dc-4128-b2ac-e2c7342110b5",
   "metadata": {},
   "outputs": [],
   "source": [
    "geometry = blobs.sample()\n",
    "ez_fdfd = fdfd(geometry)\n",
    "ez_fno = fno(geometry)\n",
    "\n",
    "ez_fdfd_norm = normalize(ez_fdfd.abs())\n",
    "ez_fno_norm = normalize(ez_fno.abs())"
   ]
  },
  {
   "cell_type": "code",
   "execution_count": null,
   "id": "973fc1b7-0170-45cf-89eb-e9248fadc60b",
   "metadata": {
    "editable": true,
    "slideshow": {
     "slide_type": ""
    },
    "tags": []
   },
   "outputs": [],
   "source": [
    "plt.close(\"all\")\n",
    "fig, ax = plt.subplots(1, 4, figsize=(10, 3), sharey=True)\n",
    "\n",
    "ax[0].set_title(\"Geometry\")\n",
    "ax[1].set_title(\"|Ez| FDFD\")\n",
    "ax[2].set_title(\"|Ez| FNO\")\n",
    "ax[3].set_title(\"abs. err.\")\n",
    "ax[0].set_ylabel(\"y (μm)\")\n",
    "plt.setp(ax, xlabel=\"x (μm)\")\n",
    "\n",
    "extent = (-2.56, 2.56, -2.56, 2.56)\n",
    "im1 = ax[0].imshow(geometry, cmap=\"gray_r\", extent=extent)\n",
    "im2 = ax[1].imshow(ez_fdfd_norm, cmap=\"magma\", extent=extent)\n",
    "im3 = ax[2].imshow(ez_fno_norm, cmap=\"magma\", extent=extent)\n",
    "im4 = ax[3].imshow(torch.abs(ez_fdfd_norm - ez_fno_norm), cmap=\"viridis\", extent=extent)\n",
    "divider = make_axes_locatable(ax[3])\n",
    "cax = divider.append_axes(\"right\", size=\"5%\", pad=0.25)\n",
    "fig.colorbar(im4, cax)\n",
    "plt.show()\n",
    "\n",
    "eps_input = widgets.FloatText(value=2.25, description=\"eps_max\", disabled=False)\n",
    "\n",
    "def update(_):\n",
    "    eps = eps_input.get_interact_value() / 2.25\n",
    "    \n",
    "    x = eps * blobs.sample()\n",
    "    ez_fdfd = normalize(fdfd(x).abs())\n",
    "    ez_fno = normalize(fno(x).abs())\n",
    "    \n",
    "    im1.set_data(x)\n",
    "    im2.set_data(ez_fdfd)\n",
    "    im3.set_data(ez_fno)\n",
    "    ax[3].cla()\n",
    "    im4 = ax[3].imshow(torch.abs(ez_fdfd - ez_fno), cmap=\"viridis\", extent=extent)\n",
    "    cax.cla()\n",
    "    fig.colorbar(im4, cax)\n",
    "    ax[3].set_xlabel(\"x (μm)\")\n",
    "\n",
    "button = widgets.Button(description=\"Sample\")\n",
    "button.on_click(update)\n",
    "\n",
    "widgets.HBox([eps_input, button])"
   ]
  },
  {
   "cell_type": "code",
   "execution_count": null,
   "id": "331d59db-42a6-4f2d-b9db-0babd8c28880",
   "metadata": {},
   "outputs": [],
   "source": []
  }
 ],
 "metadata": {
  "kernelspec": {
   "display_name": "Python 3 (ipykernel)",
   "language": "python",
   "name": "python3"
  },
  "language_info": {
   "codemirror_mode": {
    "name": "ipython",
    "version": 3
   },
   "file_extension": ".py",
   "mimetype": "text/x-python",
   "name": "python",
   "nbconvert_exporter": "python",
   "pygments_lexer": "ipython3",
   "version": "3.11.9"
  }
 },
 "nbformat": 4,
 "nbformat_minor": 5
}
