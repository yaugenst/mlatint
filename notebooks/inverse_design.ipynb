{
 "cells": [
  {
   "cell_type": "markdown",
   "id": "54c1cd10-78e2-4f64-bf8f-09341248e5f5",
   "metadata": {},
   "source": [
    "# Inverse design using surrogate solvers and VAEs"
   ]
  },
  {
   "cell_type": "markdown",
   "id": "49df70a9-684c-44fa-b9e2-8deb2441b70c",
   "metadata": {
    "editable": true,
    "slideshow": {
     "slide_type": ""
    },
    "tags": []
   },
   "source": [
    "## Setup"
   ]
  },
  {
   "cell_type": "code",
   "execution_count": null,
   "id": "3bb2c5c8-525a-4319-bb42-9cd602d5b4f0",
   "metadata": {
    "editable": true,
    "slideshow": {
     "slide_type": ""
    },
    "tags": []
   },
   "outputs": [],
   "source": [
    "import sys\n",
    "\n",
    "if \"google.colab\" in sys.modules:\n",
    "    from google.colab import output\n",
    "\n",
    "    output.enable_custom_widget_manager()\n",
    "    if \"mlatint\" not in sys.modules:\n",
    "        !sudo apt install libcairo2-dev pkg-config python3-dev\n",
    "        !pip install git+https://github.com/yaugenst/mlatint"
   ]
  },
  {
   "cell_type": "code",
   "execution_count": null,
   "id": "b768978e-3651-4fe1-9b88-e028080cc653",
   "metadata": {
    "editable": true,
    "slideshow": {
     "slide_type": ""
    },
    "tags": []
   },
   "outputs": [],
   "source": [
    "%matplotlib ipympl\n",
    "import torch\n",
    "import ipywidgets as widgets\n",
    "import matplotlib.pyplot as plt\n",
    "import matplotlib.gridspec as gridspec\n",
    "\n",
    "from mlatint import VAE, Sampler, FNO, FDFD"
   ]
  },
  {
   "cell_type": "markdown",
   "id": "956468ec-4a76-4188-a05b-80a44bce59cc",
   "metadata": {},
   "source": [
    "First, we load everything we need. Here, that will be the FNO and VAE models as well as the FDFD simulation to check our results later."
   ]
  },
  {
   "cell_type": "code",
   "execution_count": null,
   "id": "873ba0b5-886b-4685-b390-db06fb6e9895",
   "metadata": {
    "editable": true,
    "slideshow": {
     "slide_type": ""
    },
    "tags": []
   },
   "outputs": [],
   "source": [
    "fno = FNO()\n",
    "fdfd = FDFD()\n",
    "blobs = Sampler(\"blobs\")\n",
    "vae_blobs = VAE(\"blobs\")\n",
    "\n",
    "extent = (-2.56, 2.56, -2.56, 2.56)  # for plotting"
   ]
  },
  {
   "cell_type": "markdown",
   "id": "93ae95e0-2ac4-43c7-93f9-3a70c3fa85e0",
   "metadata": {},
   "source": [
    "For inverse design, we need to define an objective function. We do this here by defining a boolean mask, and we want to maximize the absolute electric field wherever this mask is non-zero."
   ]
  },
  {
   "cell_type": "code",
   "execution_count": null,
   "id": "4be118d5-857a-4fa9-a7f1-edb52bc67454",
   "metadata": {
    "editable": true,
    "slideshow": {
     "slide_type": ""
    },
    "tags": []
   },
   "outputs": [],
   "source": [
    "mask = torch.zeros(128, 128, dtype=bool)\n",
    "mask[40:50, 90:100] = 1\n",
    "mask[110:120, 20:30] = 1\n",
    "\n",
    "\n",
    "def objective(latent):\n",
    "    design = vae_blobs.decode(latent)\n",
    "    ez = fno(design)\n",
    "    return ez[mask].abs().mean()"
   ]
  },
  {
   "cell_type": "markdown",
   "id": "393d664a-2168-4bb8-8096-ebdf0aed5ced",
   "metadata": {},
   "source": [
    "Next, we initialize a latent vector which we will use as the parameters in our optimization.\n",
    "Note that we initialize this vector by encoding a randomly sampled structure using the VAE encoder.\n",
    "This is not strictly necessary, we could also randomly sample from some uniform or normal distribution instead (with the correct shape).\n",
    "Using an encoded structure however guarantees that we have a starting point in our optimization that the VAE can represent well."
   ]
  },
  {
   "cell_type": "code",
   "execution_count": null,
   "id": "4cba5619-8673-4657-a718-51cc2c7b4a3f",
   "metadata": {},
   "outputs": [],
   "source": [
    "x0 = vae_blobs.encode(blobs.sample())"
   ]
  },
  {
   "cell_type": "markdown",
   "id": "127c386b-9776-4846-92a3-98f4111bd157",
   "metadata": {},
   "source": [
    "And now we visualize our setup by plotting the initial geometry, the target optimization areas, as well a reference FNO & FDFD simulation just to make sure that the initial FNO fields are ok."
   ]
  },
  {
   "cell_type": "code",
   "execution_count": null,
   "id": "46adcd81-bbc1-4a21-95cf-686d17b26151",
   "metadata": {
    "editable": true,
    "slideshow": {
     "slide_type": ""
    },
    "tags": []
   },
   "outputs": [],
   "source": [
    "plt.close(\"all\")\n",
    "fig, ax = plt.subplots(1, 3, figsize=(9, 3), sharey=True)\n",
    "\n",
    "ax[0].set_title(\"Geometry\")\n",
    "ax[1].set_title(\"|Ez| FDFD\")\n",
    "ax[2].set_title(\"|Ez| FNO\")\n",
    "ax[0].set_ylabel(\"y (μm)\")\n",
    "plt.setp(ax, xlabel=\"x (μm)\")\n",
    "\n",
    "_init = vae_blobs.decode(x0)\n",
    "\n",
    "im1 = ax[0].imshow(_init.numpy(force=True), cmap=\"gray_r\", extent=extent)\n",
    "im2 = ax[1].imshow(fdfd(_init).abs().numpy(force=True), cmap=\"magma\", extent=extent)\n",
    "im3 = ax[2].imshow(fno(_init).abs().numpy(force=True), cmap=\"magma\", extent=extent)\n",
    "for axi in ax:\n",
    "    axi.contour(torch.flipud(mask), colors=\"r\", extent=extent)\n",
    "plt.show()"
   ]
  },
  {
   "cell_type": "markdown",
   "id": "bf5a8367-01a3-4e72-bf70-db84d4840958",
   "metadata": {},
   "source": [
    "## Optimization\n",
    "\n",
    "Now we are almost ready to optimize! We will use a PyTorch optimizer out of convenience here, but in principle any local optimizer will do."
   ]
  },
  {
   "cell_type": "code",
   "execution_count": null,
   "id": "83ed2e20-c6d9-4553-9c5c-79e2cdfd6e15",
   "metadata": {},
   "outputs": [],
   "source": [
    "x0.requires_grad_(True)\n",
    "opt = torch.optim.Adam([x0], lr=1e-1)"
   ]
  },
  {
   "cell_type": "markdown",
   "id": "ac3a87a2-ab4b-455a-96b0-ea1c29332d35",
   "metadata": {},
   "source": [
    "And now we optimize for a certain number of iterations (modify this value if needed!) and show the evolution of the structure and the field.\n",
    "Note that you can re-run this cell to continue optimizing for some additional number of iterations."
   ]
  },
  {
   "cell_type": "code",
   "execution_count": null,
   "id": "6cadc9f2-325b-4097-bacd-eaccd17fa834",
   "metadata": {},
   "outputs": [],
   "source": [
    "plt.close(\"all\")\n",
    "fig, ax = plt.subplots(1, 2, figsize=(6, 3), sharey=True)\n",
    "\n",
    "ax[0].set_title(\"Geometry\")\n",
    "ax[1].set_title(\"|Ez| FNO\")\n",
    "ax[0].set_ylabel(\"y (μm)\")\n",
    "plt.setp(ax, xlabel=\"x (μm)\")\n",
    "\n",
    "_init = vae_blobs.decode(x0)\n",
    "\n",
    "extent = (-2.56, 2.56, -2.56, 2.56)\n",
    "im1 = ax[0].imshow(_init.numpy(force=True), cmap=\"gray_r\", extent=extent)\n",
    "im2 = ax[1].imshow(fno(_init).abs().numpy(force=True), cmap=\"magma\", extent=extent)\n",
    "for axi in ax:\n",
    "    axi.contour(torch.flipud(mask), colors=\"r\", extent=extent)\n",
    "hfig = display(fig, display_id=True)\n",
    "\n",
    "for _ in range(10):\n",
    "    opt.zero_grad()\n",
    "    loss = -objective(x0)\n",
    "    loss.backward()\n",
    "    opt.step()\n",
    "    with torch.no_grad():\n",
    "        torch.clamp_(x0, -0.5, 2.0)  # not strictly necessary but helps the VAE\n",
    "        design = vae_blobs.decode(x0)\n",
    "        ez = fno(design).abs()\n",
    "        im1.set_data(design.numpy(force=True))\n",
    "        im2.set_data(ez.numpy(force=True))\n",
    "        fig.canvas.draw()\n",
    "        hfig.update(fig)\n",
    "\n",
    "plt.close(fig)"
   ]
  },
  {
   "cell_type": "markdown",
   "id": "466c0df3-f60d-4322-b2b0-def4cd150313",
   "metadata": {},
   "source": [
    "## Evaluation\n",
    "\n",
    "And lastly, we visualize the results of the optimization and compare to FDFD fields."
   ]
  },
  {
   "cell_type": "code",
   "execution_count": null,
   "id": "ae46ea35-2a11-4754-9397-6ffa4c62331b",
   "metadata": {},
   "outputs": [],
   "source": [
    "plt.close(\"all\")\n",
    "fig, ax = plt.subplots(1, 3, figsize=(9, 3), sharey=True)\n",
    "\n",
    "ax[0].set_title(\"Geometry\")\n",
    "ax[1].set_title(\"|Ez| FDFD\")\n",
    "ax[2].set_title(\"|Ez| FNO\")\n",
    "ax[0].set_ylabel(\"y (μm)\")\n",
    "plt.setp(ax, xlabel=\"x (μm)\")\n",
    "\n",
    "_init = vae_blobs.decode(x0)\n",
    "\n",
    "im1 = ax[0].imshow(_init.numpy(force=True), cmap=\"gray_r\", extent=extent)\n",
    "im2 = ax[1].imshow(fdfd(_init).abs().numpy(force=True), cmap=\"magma\", extent=extent)\n",
    "im3 = ax[2].imshow(fno(_init).abs().numpy(force=True), cmap=\"magma\", extent=extent)\n",
    "for axi in ax:\n",
    "    axi.contour(torch.flipud(mask), colors=\"r\", extent=extent)\n",
    "plt.show()"
   ]
  },
  {
   "cell_type": "code",
   "execution_count": null,
   "id": "0a8a63a8-9f38-44c7-b953-9f7b4392e8dd",
   "metadata": {},
   "outputs": [],
   "source": []
  }
 ],
 "metadata": {
  "kernelspec": {
   "display_name": "Python 3 (ipykernel)",
   "language": "python",
   "name": "python3"
  },
  "language_info": {
   "codemirror_mode": {
    "name": "ipython",
    "version": 3
   },
   "file_extension": ".py",
   "mimetype": "text/x-python",
   "name": "python",
   "nbconvert_exporter": "python",
   "pygments_lexer": "ipython3",
   "version": "3.11.9"
  }
 },
 "nbformat": 4,
 "nbformat_minor": 5
}
